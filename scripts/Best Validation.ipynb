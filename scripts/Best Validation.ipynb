{
 "cells": [
  {
   "cell_type": "code",
   "execution_count": 1,
   "id": "5bbe0229",
   "metadata": {},
   "outputs": [],
   "source": [
    "import numpy as np\n",
    "np.set_printoptions(precision=4)\n",
    "import os"
   ]
  },
  {
   "cell_type": "code",
   "execution_count": 2,
   "id": "95beacc5",
   "metadata": {},
   "outputs": [],
   "source": [
    "def best_model(dataset):\n",
    "    best_hyper_parameters = []\n",
    "        \n",
    "    for seed in [1, 2, 3, 4, 5]:\n",
    "        \n",
    "        best_hyper_parameter = []\n",
    "        max_score = 0\n",
    "        beta_list = []\n",
    "        \n",
    "        for lr in [0.01]:\n",
    "            for wd in [1e-3, 1e-4, 1e-5]:\n",
    "                for dropout in [0.1, 0.3, 0.5]:\n",
    "                    for beta in [0.0, 0.001, 0.01, 0.1, 1.0, 10.0]:\n",
    "                        \n",
    "                        filename = \"../train_logs/\"+str(dataset)+\"/lambda_\"+str(beta)+\\\n",
    "                        \"_seed_\"+str(seed)+\"_\"+str(lr)+\"_\"+str(wd)\\\n",
    "                        +\"_\"+str(dropout)+\".npy\"\n",
    "                        \n",
    "                        \n",
    "                        if os.path.exists(filename) == False:\n",
    "                            continue                        \n",
    "\n",
    "                        logs = np.load(filename, 'r')\n",
    "\n",
    "                        l_classification, l_distance, l_distance_masked, \\\n",
    "                        loss_train, \\\n",
    "                        acc_val, auc_roc_val, f1_val, \\\n",
    "                        sp_val, eo_val, \\\n",
    "                        _, _, val_REF, \\\n",
    "                        _, _, val_VEF = logs.T\n",
    "                        \n",
    "                        score = (auc_roc_val+f1_val+acc_val)/3-(sp_val+eo_val)/2.0-(val_REF+val_VEF)/2.0\n",
    "                        \n",
    "                        max_val = max(score)\n",
    "                        score_reverse = score[::-1]\n",
    "                        max_index = len(score_reverse) - np.argmax(score_reverse) - 1 # obtain the latest max score\n",
    "                        \n",
    "                        if max_val > max_score:\n",
    "                            max_score = max_val\n",
    "                            best_hyper_parameter = [lr, wd, dropout, beta]\n",
    "                            \n",
    "        best_hyper_parameters.append(best_hyper_parameter)\n",
    "    return best_hyper_parameters"
   ]
  },
  {
   "cell_type": "code",
   "execution_count": 3,
   "id": "146304ac",
   "metadata": {},
   "outputs": [
    {
     "data": {
      "text/plain": [
       "[[0.01, 0.001, 0.5, 10.0],\n",
       " [0.01, 1e-05, 0.3, 10.0],\n",
       " [0.01, 0.001, 0.1, 10.0],\n",
       " [0.01, 0.0001, 0.5, 10.0],\n",
       " [0.01, 0.0001, 0.3, 10.0]]"
      ]
     },
     "execution_count": 3,
     "metadata": {},
     "output_type": "execute_result"
    }
   ],
   "source": [
    "best_model(\"german\")"
   ]
  },
  {
   "cell_type": "code",
   "execution_count": 4,
   "id": "97f9c74a",
   "metadata": {},
   "outputs": [
    {
     "data": {
      "text/plain": [
       "[[0.01, 0.001, 0.5, 0.1],\n",
       " [0.01, 0.001, 0.5, 0.1],\n",
       " [0.01, 0.001, 0.1, 0.1],\n",
       " [0.01, 0.0001, 0.5, 0.01],\n",
       " [0.01, 1e-05, 0.5, 0.1]]"
      ]
     },
     "execution_count": 4,
     "metadata": {},
     "output_type": "execute_result"
    }
   ],
   "source": [
    "best_model(\"math\")"
   ]
  },
  {
   "cell_type": "code",
   "execution_count": 5,
   "id": "b01684b1",
   "metadata": {},
   "outputs": [
    {
     "data": {
      "text/plain": [
       "[[0.01, 0.0001, 0.1, 0.01],\n",
       " [0.01, 0.0001, 0.3, 0.01],\n",
       " [0.01, 0.0001, 0.3, 0.001],\n",
       " [0.01, 0.0001, 0.1, 0.01],\n",
       " [0.01, 0.001, 0.3, 0.001]]"
      ]
     },
     "execution_count": 5,
     "metadata": {},
     "output_type": "execute_result"
    }
   ],
   "source": [
    "best_model(\"por\")"
   ]
  },
  {
   "cell_type": "code",
   "execution_count": 6,
   "id": "82ae6bfc",
   "metadata": {},
   "outputs": [
    {
     "data": {
      "text/plain": [
       "[[0.01, 1e-05, 0.5, 0.01],\n",
       " [0.01, 0.001, 0.3, 0.01],\n",
       " [0.01, 0.001, 0.1, 0.001],\n",
       " [0.01, 0.001, 0.3, 0.01],\n",
       " [0.01, 0.001, 0.3, 0.01]]"
      ]
     },
     "execution_count": 6,
     "metadata": {},
     "output_type": "execute_result"
    }
   ],
   "source": [
    "best_model(\"bail\")"
   ]
  }
 ],
 "metadata": {
  "kernelspec": {
   "display_name": "edit",
   "language": "python",
   "name": "edit"
  },
  "language_info": {
   "codemirror_mode": {
    "name": "ipython",
    "version": 3
   },
   "file_extension": ".py",
   "mimetype": "text/x-python",
   "name": "python",
   "nbconvert_exporter": "python",
   "pygments_lexer": "ipython3",
   "version": "3.8.0"
  }
 },
 "nbformat": 4,
 "nbformat_minor": 5
}
