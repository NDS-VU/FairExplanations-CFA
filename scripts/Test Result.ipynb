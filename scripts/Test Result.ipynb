{
 "cells": [
  {
   "cell_type": "code",
   "execution_count": 1,
   "id": "597a5a09",
   "metadata": {},
   "outputs": [],
   "source": [
    "import numpy as np"
   ]
  },
  {
   "cell_type": "code",
   "execution_count": 2,
   "id": "2f645988",
   "metadata": {},
   "outputs": [],
   "source": [
    "def best_test(dataset=\"german\"):    \n",
    "    fn = \"../test_logs/\"+dataset+\"_best_test_result.txt\"\n",
    "    f = open(fn, 'r')\n",
    "    logs = []\n",
    "    for line in f.readlines():\n",
    "        split = line.rstrip().split()\n",
    "        split = [float(t) for t in split]\n",
    "        logs.append(split)\n",
    "    logs = np.array(logs)\n",
    "    \n",
    "    acc_test, auc_roc_test, f1_test, \\\n",
    "    sp_test, eo_test, \\\n",
    "    test_p0, test_p1, test_REF, \\\n",
    "    test_v0, test_v1, test_VEF = logs.T\n",
    "    \n",
    "    auc_roc_std = np.std(auc_roc_test)\n",
    "    f1_std = np.std(f1_test)\n",
    "    acc_std = np.std(acc_test)\n",
    "    sp_std = np.std(sp_test)\n",
    "    eo_std = np.std(eo_test)\n",
    "    REF_std = np.std(test_REF)\n",
    "    VEF_std = np.std(test_VEF)\n",
    "    \n",
    "    total_score = (auc_roc_test+f1_test+acc_test)/3.0-(sp_test+eo_test)/2.0-(test_REF+test_VEF)/2.0\n",
    "    total_score = total_score.squeeze()\n",
    "    total_score_std = np.std(total_score)\n",
    "    \n",
    "    ave_results = logs.mean(axis=0)\n",
    "    acc_test, auc_roc_test, f1_test, \\\n",
    "    sp_test, eo_test, \\\n",
    "    test_p0, test_p1, test_REF, \\\n",
    "    test_v0, test_v1, test_VEF = ave_results\n",
    "        \n",
    "    print(\"Accuracy:\", str(round(auc_roc_test*100, 2))+\"+\"+str(round(auc_roc_std*100, 2)), \\\n",
    "          str(round(f1_test*100, 2))+\"+\"+str(round(f1_std*100, 2)),\\\n",
    "          str(round(acc_test*100, 2))+\"+\"+str(round(acc_std*100, 2)))\n",
    "    print(\"Traditional Fairness:\", str(round(sp_test*100, 2))+\"+\"+str(round(sp_std*100, 2)),\\\n",
    "          str(round(eo_test*100, 2))+\"+\"+str(round(eo_std*100, 2)))\n",
    "    print(\"Explanation Fairness:\", str(round(test_REF*100, 2))+\"+\"+str(round(REF_std*100, 2)), \\\n",
    "          str(round(test_VEF*100, 2))+\"+\"+str(round(VEF_std*100, 2)))\n",
    "    print(\"Total Score:\", str(round(np.mean(total_score)*100, 2))+\"+\"+str(round(total_score_std*100, 2)))"
   ]
  },
  {
   "cell_type": "code",
   "execution_count": 3,
   "id": "323c72c5",
   "metadata": {},
   "outputs": [
    {
     "name": "stdout",
     "output_type": "stream",
     "text": [
      "Accuracy: 60.92+5.18 81.14+2.29 70.0+2.96\n",
      "Traditional Fairness: 7.21+6.42 4.6+4.08\n",
      "Explanation Fairness: 10.02+4.24 12.87+9.04\n",
      "Total Score: 53.34+7.27\n"
     ]
    }
   ],
   "source": [
    "best_test(\"german\")"
   ]
  },
  {
   "cell_type": "code",
   "execution_count": 4,
   "id": "f1c3a11a",
   "metadata": {},
   "outputs": [
    {
     "name": "stdout",
     "output_type": "stream",
     "text": [
      "Accuracy: 96.97+0.55 86.74+1.74 91.0+1.26\n",
      "Traditional Fairness: 4.59+2.4 6.22+3.19\n",
      "Explanation Fairness: 6.08+5.56 4.0+4.9\n",
      "Total Score: 81.12+5.59\n"
     ]
    }
   ],
   "source": [
    "best_test(\"math\")"
   ]
  },
  {
   "cell_type": "code",
   "execution_count": 5,
   "id": "73b18b89",
   "metadata": {},
   "outputs": [
    {
     "name": "stdout",
     "output_type": "stream",
     "text": [
      "Accuracy: 91.3+0.55 60.55+4.73 89.82+1.0\n",
      "Traditional Fairness: 1.0+0.72 27.65+5.44\n",
      "Explanation Fairness: 4.66+3.76 4.7+3.67\n",
      "Total Score: 61.55+3.26\n"
     ]
    }
   ],
   "source": [
    "best_test(\"por\")"
   ]
  },
  {
   "cell_type": "code",
   "execution_count": 6,
   "id": "85079959",
   "metadata": {},
   "outputs": [
    {
     "name": "stdout",
     "output_type": "stream",
     "text": [
      "Accuracy: 89.02+0.86 81.28+1.35 87.17+0.84\n",
      "Traditional Fairness: 1.16+0.49 1.14+0.39\n",
      "Explanation Fairness: 1.98+1.23 2.7+0.78\n",
      "Total Score: 82.33+0.62\n"
     ]
    }
   ],
   "source": [
    "best_test(\"bail\")"
   ]
  }
 ],
 "metadata": {
  "kernelspec": {
   "display_name": "edit",
   "language": "python",
   "name": "edit"
  },
  "language_info": {
   "codemirror_mode": {
    "name": "ipython",
    "version": 3
   },
   "file_extension": ".py",
   "mimetype": "text/x-python",
   "name": "python",
   "nbconvert_exporter": "python",
   "pygments_lexer": "ipython3",
   "version": "3.8.0"
  }
 },
 "nbformat": 4,
 "nbformat_minor": 5
}
